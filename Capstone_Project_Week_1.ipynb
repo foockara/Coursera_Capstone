{
 "cells": [
  {
   "cell_type": "markdown",
   "metadata": {},
   "source": [
    "\n",
    "Created on Sun Jun 21 2020\n",
    "@author: Ivica Klecina\n",
    "\n",
    "This notebook will be used for Applied Data Science Capstone Project\n"
   ]
  },
  {
   "cell_type": "markdown",
   "metadata": {},
   "source": [
    "## ----------------------------------------------------------------------------------------------------------------------------------"
   ]
  },
  {
   "cell_type": "markdown",
   "metadata": {},
   "source": [
    "## Introduction/Business Problem\n",
    "\n",
    "Gothenburg is the second largest city in Sweden with a population of approximately 600 000 inhabitants. It is located on the west coast of Sweden and it is divided into 10 boroughs (stadsdelsnämndsområden).\n",
    "\n",
    "In this project I will try to help stakeholders who are interested in opening a new restaurant in Gothenburg. As a big fan of Indian cuisine I will mainly focus on this type of restaurants. Since there are already more than 900 restaurants in Gothenburg it is important to find an optimal location for the new restaurant. The location will be chosen with respect to two main criteria:\n",
    "\n",
    "    • number of competitors (similar type of restaurants) in the nearby area \n",
    "    • distance to Gothenburg’s city centre\n"
   ]
  },
  {
   "cell_type": "markdown",
   "metadata": {},
   "source": [
    "## Data\n",
    "\n",
    "Gothenburg municipality is divided into 10 boroughs, however in this project I will mainly use an alternative geographical subdivision, namely registration districts. In total there are 36 districts in the city of Gothenburg.\n",
    "\n",
    "A .csv file with all necessary information regarding districts of Gothenburg with their corresponding coordinates will be created using information from Wikipedia (https://sv.wikipedia.org/wiki/G%C3%B6teborgs_kommun). After that I will use Foursqare API to search for a Food Category venues within all 36 districts. All returned venues (restaurants) will be grouped by cuisine type and most popular types of restaurants will be presented for each borough. \n",
    "\n",
    "Next step will be to extract information about Indian restaurants located in Gothenburg. They will be clustered into 5 clusters with respect to geographical location. The clusters containing Indian restaurants in the city area will be visualized using Folium library. Visualization will help us to determine the best location for the new Indian restaurant in Gothenburg.\n",
    "\n",
    "[1] "
   ]
  },
  {
   "cell_type": "code",
   "execution_count": null,
   "metadata": {},
   "outputs": [],
   "source": []
  }
 ],
 "metadata": {
  "kernelspec": {
   "display_name": "Python 3",
   "language": "python",
   "name": "python3"
  },
  "language_info": {
   "codemirror_mode": {
    "name": "ipython",
    "version": 3
   },
   "file_extension": ".py",
   "mimetype": "text/x-python",
   "name": "python",
   "nbconvert_exporter": "python",
   "pygments_lexer": "ipython3",
   "version": "3.7.6"
  }
 },
 "nbformat": 4,
 "nbformat_minor": 4
}
